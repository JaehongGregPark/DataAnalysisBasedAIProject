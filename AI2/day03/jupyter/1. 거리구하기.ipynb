{
 "cells": [
  {
   "cell_type": "code",
   "execution_count": 2,
   "id": "e4e0dfba",
   "metadata": {},
   "outputs": [],
   "source": [
    "import numpy as np\n",
    "import pandas as pd"
   ]
  },
  {
   "cell_type": "markdown",
   "id": "04a1c46c",
   "metadata": {},
   "source": [
    "# 1. 유클리드 거리"
   ]
  },
  {
   "cell_type": "code",
   "execution_count": 1,
   "id": "24a2fbb7",
   "metadata": {},
   "outputs": [
    {
     "name": "stdout",
     "output_type": "stream",
     "text": [
      "유클리드 거리 : 11.661903789690601\n"
     ]
    }
   ],
   "source": [
    "def euclidean(a, b):\n",
    "    distance = 0\n",
    "    for i in range(len(a)):\n",
    "        distance += (a[i] - b[i]) ** 2\n",
    "    return distance ** 0.5\n",
    "\n",
    "a = [1, 2, 3, 4, 5]\n",
    "b = [2, 3, 6, 9, 15]\n",
    "\n",
    "print(f\"유클리드 거리 : {euclidean(a, b)}\")"
   ]
  },
  {
   "cell_type": "code",
   "execution_count": 7,
   "id": "5f990eea",
   "metadata": {},
   "outputs": [
    {
     "name": "stdout",
     "output_type": "stream",
     "text": [
      "넘파이이용 : 11.661903789690601\n"
     ]
    }
   ],
   "source": [
    "def euclidean1(c, d):\n",
    "    return np.sqrt(np.sum((c-d)**2))\n",
    "\n",
    "c = np.array([1, 2, 3, 4, 5])\n",
    "d = np.array([2, 3, 6, 9, 15])\n",
    "\n",
    "print(f\"넘파이이용 : {euclidean1(c, d)}\")"
   ]
  },
  {
   "cell_type": "markdown",
   "id": "5c260afc",
   "metadata": {},
   "source": [
    "# 2. 맨하탄 거리"
   ]
  },
  {
   "cell_type": "code",
   "execution_count": 9,
   "id": "3b27f2bc",
   "metadata": {},
   "outputs": [
    {
     "name": "stdout",
     "output_type": "stream",
     "text": [
      "맨하탄 거리 : 20\n"
     ]
    }
   ],
   "source": [
    "def manhattan(a, b):\n",
    "    distance = 0\n",
    "    for i in range(len(a)):\n",
    "        distance += abs(a[i] - b[i])\n",
    "    return distance\n",
    "\n",
    "print(f\"맨하탄 거리 : {manhattan(a, b)}\")"
   ]
  },
  {
   "cell_type": "code",
   "execution_count": 10,
   "id": "8a1be3f4",
   "metadata": {},
   "outputs": [
    {
     "name": "stdout",
     "output_type": "stream",
     "text": [
      "맨하탄 거리 : 20\n"
     ]
    }
   ],
   "source": [
    "def manhattan1(c, d):\n",
    "    return np.sum(np.abs(c - d))\n",
    "\n",
    "print(f\"맨하탄 거리 : {manhattan1(c, d)}\")"
   ]
  },
  {
   "cell_type": "markdown",
   "id": "5952754e",
   "metadata": {},
   "source": [
    "# 맨해튼 거리"
   ]
  },
  {
   "cell_type": "code",
   "execution_count": 11,
   "id": "7ffc74f0",
   "metadata": {},
   "outputs": [
    {
     "name": "stdout",
     "output_type": "stream",
     "text": [
      "맨해튼 거리 : 10\n"
     ]
    }
   ],
   "source": [
    "def chebyshev(a, b):\n",
    "    distance = 0\n",
    "    for i in range(len(a)):\n",
    "        distance = max(distance, abs(a[i] - b[i]))\n",
    "    return distance\n",
    "\n",
    "print(f\"맨해튼 거리 : {chebyshev(a, b)}\")"
   ]
  },
  {
   "cell_type": "code",
   "execution_count": 12,
   "id": "5ef6eb7f",
   "metadata": {},
   "outputs": [
    {
     "name": "stdout",
     "output_type": "stream",
     "text": [
      "넘파이 이용 : 10\n"
     ]
    }
   ],
   "source": [
    "def chebyshev1(c, d):\n",
    "    return np.max(np.abs(c-d))\n",
    "\n",
    "print(f\"넘파이 이용 : {chebyshev1(c, d)}\")"
   ]
  },
  {
   "cell_type": "markdown",
   "id": "532fc077",
   "metadata": {},
   "source": [
    "# 미스테이로비치 거리"
   ]
  },
  {
   "cell_type": "code",
   "execution_count": 18,
   "id": "4f3271f8",
   "metadata": {},
   "outputs": [
    {
     "name": "stdout",
     "output_type": "stream",
     "text": [
      "미스테이로비치 거리 : 20.0\n"
     ]
    }
   ],
   "source": [
    "def minkowski(a, b, p):\n",
    "    distance = 0\n",
    "    for i in range(len(a)):\n",
    "        distance += abs(a[i] - b[i]) ** p\n",
    "    return distance ** (1/p)\n",
    "\n",
    "p = 1 #2 : 유클리드 거리, 1 : 맨하탄거리\n",
    "print(f\"미스테이로비치 거리 : {minkowski(a, b, p)}\")"
   ]
  },
  {
   "cell_type": "code",
   "execution_count": 19,
   "id": "1ac0aab1",
   "metadata": {},
   "outputs": [
    {
     "name": "stdout",
     "output_type": "stream",
     "text": [
      "넘파이이용 : 20.0\n"
     ]
    }
   ],
   "source": [
    "def minkowski1(c, d, p):\n",
    "    return np.power(np.sum(np.abs(c - d) ** p), 1/p)\n",
    "\n",
    "p = 1\n",
    "print(f\"넘파이이용 : {minkowski1(c, d, p)}\")"
   ]
  },
  {
   "cell_type": "code",
   "execution_count": null,
   "id": "b8c8cc84",
   "metadata": {},
   "outputs": [],
   "source": []
  },
  {
   "cell_type": "code",
   "execution_count": null,
   "id": "077953a3",
   "metadata": {},
   "outputs": [],
   "source": []
  },
  {
   "cell_type": "code",
   "execution_count": null,
   "id": "b2a9bc16",
   "metadata": {},
   "outputs": [],
   "source": []
  },
  {
   "cell_type": "code",
   "execution_count": null,
   "id": "10c5a3cc",
   "metadata": {},
   "outputs": [],
   "source": []
  },
  {
   "cell_type": "code",
   "execution_count": null,
   "id": "ebb8c135",
   "metadata": {},
   "outputs": [],
   "source": []
  },
  {
   "cell_type": "code",
   "execution_count": null,
   "id": "c2f1321f",
   "metadata": {},
   "outputs": [],
   "source": []
  },
  {
   "cell_type": "code",
   "execution_count": null,
   "id": "f0eefe69",
   "metadata": {},
   "outputs": [],
   "source": []
  },
  {
   "cell_type": "code",
   "execution_count": null,
   "id": "16fa8bcf",
   "metadata": {},
   "outputs": [],
   "source": []
  }
 ],
 "metadata": {
  "kernelspec": {
   "display_name": "Python 3 (ipykernel)",
   "language": "python",
   "name": "python3"
  },
  "language_info": {
   "codemirror_mode": {
    "name": "ipython",
    "version": 3
   },
   "file_extension": ".py",
   "mimetype": "text/x-python",
   "name": "python",
   "nbconvert_exporter": "python",
   "pygments_lexer": "ipython3",
   "version": "3.11.5"
  }
 },
 "nbformat": 4,
 "nbformat_minor": 5
}
