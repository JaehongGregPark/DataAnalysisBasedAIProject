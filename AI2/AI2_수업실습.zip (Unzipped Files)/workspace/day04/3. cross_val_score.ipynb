{
 "cells": [
  {
   "cell_type": "code",
   "execution_count": 8,
   "id": "104f6ef1",
   "metadata": {},
   "outputs": [],
   "source": [
    "from sklearn.tree import DecisionTreeClassifier\n",
    "from sklearn.model_selection import cross_val_score, cross_validate\n",
    "from sklearn.datasets import load_iris\n",
    "import numpy as np"
   ]
  },
  {
   "cell_type": "markdown",
   "id": "7020a222",
   "metadata": {},
   "source": []
  },
  {
   "cell_type": "code",
   "execution_count": 12,
   "id": "b0e4dc05",
   "metadata": {},
   "outputs": [
    {
     "name": "stdout",
     "output_type": "stream",
     "text": [
      "{'fit_time': array([0.00074387, 0.        , 0.        ]), 'score_time': array([0.06789136, 0.        , 0.        ]), 'test_accuracy': array([0.98, 0.94, 0.98]), 'test_precision_macro': array([0.98148148, 0.94074074, 0.98148148]), 'test_f1_macro': array([0.9797235 , 0.93917051, 0.98037518])}\n"
     ]
    }
   ],
   "source": [
    "iris = load_iris()\n",
    "dt = DecisionTreeClassifier(random_state = 125)\n",
    "\n",
    "features = iris.data\n",
    "label = iris.target\n",
    "\n",
    "# scores = cross_val_score(dt, features, label, scoring=\"accuracy\", cv=3)\n",
    "scoring = [\"accuracy\", \"precision_macro\", \"f1_macro\"]\n",
    "result = cross_validate(dt, features, label, scoring=scoring, cv=3)\n",
    "\n",
    "print(result)\n",
    "\n",
    "# print(f\"교차검증 별 정확도 : {np.round(scores, 4)}\")\n",
    "# print(f\"평균 검증 정확도 : {np.round(np.mean(scores), 4)}\")"
   ]
  },
  {
   "cell_type": "code",
   "execution_count": null,
   "id": "a774d50e",
   "metadata": {},
   "outputs": [],
   "source": []
  },
  {
   "cell_type": "code",
   "execution_count": null,
   "id": "557a41a8",
   "metadata": {},
   "outputs": [],
   "source": []
  },
  {
   "cell_type": "code",
   "execution_count": null,
   "id": "2b0b14cd",
   "metadata": {},
   "outputs": [],
   "source": []
  },
  {
   "cell_type": "code",
   "execution_count": null,
   "id": "afbb9bd2",
   "metadata": {},
   "outputs": [],
   "source": []
  },
  {
   "cell_type": "code",
   "execution_count": null,
   "id": "3249a26d",
   "metadata": {},
   "outputs": [],
   "source": []
  },
  {
   "cell_type": "code",
   "execution_count": null,
   "id": "8919b48e",
   "metadata": {},
   "outputs": [],
   "source": []
  },
  {
   "cell_type": "code",
   "execution_count": null,
   "id": "ce1036c7",
   "metadata": {},
   "outputs": [],
   "source": []
  },
  {
   "cell_type": "code",
   "execution_count": null,
   "id": "dfa0eb70",
   "metadata": {},
   "outputs": [],
   "source": []
  },
  {
   "cell_type": "code",
   "execution_count": null,
   "id": "7619fae9",
   "metadata": {},
   "outputs": [],
   "source": []
  },
  {
   "cell_type": "code",
   "execution_count": null,
   "id": "179eba0a",
   "metadata": {},
   "outputs": [],
   "source": []
  }
 ],
 "metadata": {
  "kernelspec": {
   "display_name": "Python 3 (ipykernel)",
   "language": "python",
   "name": "python3"
  },
  "language_info": {
   "codemirror_mode": {
    "name": "ipython",
    "version": 3
   },
   "file_extension": ".py",
   "mimetype": "text/x-python",
   "name": "python",
   "nbconvert_exporter": "python",
   "pygments_lexer": "ipython3",
   "version": "3.11.5"
  }
 },
 "nbformat": 4,
 "nbformat_minor": 5
}
