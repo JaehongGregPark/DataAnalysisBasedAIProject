{
 "cells": [
  {
   "cell_type": "markdown",
   "id": "862d311f",
   "metadata": {},
   "source": [
    "#1. 주피터 노트북 사용하기\n",
    "\n"
   ]
  },
  {
   "cell_type": "code",
   "execution_count": 1,
   "id": "161c8ee2",
   "metadata": {},
   "outputs": [
    {
     "data": {
      "text/plain": [
       "3"
      ]
     },
     "execution_count": 1,
     "metadata": {},
     "output_type": "execute_result"
    }
   ],
   "source": [
    "#코드셀 입력 공간\n",
    "#파란색일 때는 명령모드, 초록색일 때 입력(편집)모드\n",
    "\n",
    "1+2\n",
    "10-2\n",
    "#코랩과 동일하게 미리보기 기능이 있다\n",
    "#코드셀을 실행하면 앞에 몇번 실행했는지 숫자가 나온다\n"
   ]
  },
  {
   "cell_type": "code",
   "execution_count": 3,
   "id": "63d26526",
   "metadata": {},
   "outputs": [
    {
     "name": "stdout",
     "output_type": "stream",
     "text": [
      "[1 2 3 4 5]\n"
     ]
    }
   ],
   "source": [
    "import numpy as np\n",
    "\n",
    "arr = np.array([1,2,3,4,5])\n",
    "print(arr)"
   ]
  },
  {
   "cell_type": "code",
   "execution_count": 1,
   "id": "29d42266",
   "metadata": {},
   "outputs": [
    {
     "data": {
      "text/plain": [
       "2"
      ]
     },
     "execution_count": 1,
     "metadata": {},
     "output_type": "execute_result"
    }
   ],
   "source": [
    "\n",
    "1+1\n"
   ]
  },
  {
   "cell_type": "markdown",
   "id": "07da40c2",
   "metadata": {},
   "source": [
    "#1. 주피터 노트북 사용\n"
   ]
  },
  {
   "cell_type": "code",
   "execution_count": 8,
   "id": "8b9beb9a",
   "metadata": {},
   "outputs": [
    {
     "name": "stdout",
     "output_type": "stream",
     "text": [
      "[1 2 3 4 5]\n",
      "(5,)\n",
      "3.0\n",
      "1 5\n"
     ]
    }
   ],
   "source": [
    "import numpy as np\n",
    "\n",
    "arr = np.array([1,2,3,4,5])\n",
    "print(arr)\n",
    "print(arr.shape)\n",
    "\n",
    "print(np.mean(arr))\n",
    "\n",
    "#배열의 최대값, 최소값 출력\n",
    "print(np.min(arr), np.max(arr))"
   ]
  },
  {
   "cell_type": "code",
   "execution_count": 20,
   "id": "982c23b9",
   "metadata": {},
   "outputs": [
    {
     "name": "stdout",
     "output_type": "stream",
     "text": [
      "70.5\n",
      "70.5\n",
      "70.5\n",
      "   이름  나이  성적\n",
      "2  유리  15  93\n",
      "4  치타  18  20\n",
      "5  맹구  19  35\n",
      "   이름  나이  성적\n",
      "2  유리  15  93\n",
      "4  치타  18  20\n",
      "5  맹구  19  35\n",
      "   이름  나이  성적\n",
      "2  유리  15  93\n",
      "4  치타  18  20\n",
      "5  맹구  19  35\n"
     ]
    }
   ],
   "source": [
    "import pandas as pd\n",
    "\n",
    "\n",
    "data = {'이름' : [\"짱구\",\"철수\",\"유리\",\"훈이\",\"치타\",\"맹구\"],\n",
    "        '나이' : [10,14,15,11,18,19],\n",
    "        '성적' : [90,85,93,100, 20,35 ] }\n",
    "\n",
    "df = pd.DataFrame(data) \n",
    "\n",
    "df\n",
    "\n",
    "# 성적 평균 계산\n",
    "#방법1) numpy의 mean() 사용\n",
    "avg1 = np.mean(df['성적'])\n",
    "print(avg1)\n",
    "\n",
    "#방법2) pandas의 Series의 mean() 사용\n",
    "avg2 = df['성적'].mean()\n",
    "print(avg2)\n",
    "\n",
    "#방법3) 직접 계산(sum() / len())\n",
    "avg3 = sum(df['성적']) / len(df['성적'])\n",
    "print(avg3)\n",
    "\n",
    "# 나이가 15살 이상인 학생들 출력(데이터 프레임으로)\n",
    "#방법1) 불리언 인덱싱 사용\n",
    "age1 = df[df['나이']>= 15]\n",
    "print(age1)\n",
    "\n",
    "#방법2) loc 메소드 사용\n",
    "age2 = df.loc[df['나이']>= 15]\n",
    "print(age2)\n",
    "\n",
    "#방법3) query 메소드 사용\n",
    "age3 = df.query('나이 >= 15')\n",
    "print(age3)"
   ]
  }
 ],
 "metadata": {
  "kernelspec": {
   "display_name": "Python 3 (ipykernel)",
   "language": "python",
   "name": "python3"
  },
  "language_info": {
   "codemirror_mode": {
    "name": "ipython",
    "version": 3
   },
   "file_extension": ".py",
   "mimetype": "text/x-python",
   "name": "python",
   "nbconvert_exporter": "python",
   "pygments_lexer": "ipython3",
   "version": "3.11.5"
  }
 },
 "nbformat": 4,
 "nbformat_minor": 5
}
