{
 "cells": [
  {
   "cell_type": "code",
   "execution_count": 1,
   "id": "37706613",
   "metadata": {},
   "outputs": [
    {
     "name": "stdout",
     "output_type": "stream",
     "text": [
      "유클리드 거리 : 11.661903789690601\n"
     ]
    }
   ],
   "source": [
    "def euclidean(a, b) :\n",
    "    distance = 0\n",
    "    for i in range(len(a)):\n",
    "               distance += (a[i] - b[i]) ** 2\n",
    "    return distance ** 0.5\n",
    "\n",
    "a = [1, 2, 3, 4, 5]\n",
    "b = [2, 3, 6, 9, 15]\n",
    "\n",
    "print(f\"유클리드 거리 : {euclidean(a, b)}\")"
   ]
  },
  {
   "cell_type": "code",
   "execution_count": 5,
   "id": "7bdc08b0",
   "metadata": {},
   "outputs": [],
   "source": [
    "import numpy as np\n",
    "import pandas as pd"
   ]
  },
  {
   "cell_type": "code",
   "execution_count": 7,
   "id": "b4353bf7",
   "metadata": {},
   "outputs": [
    {
     "name": "stdout",
     "output_type": "stream",
     "text": [
      "넘파이이용 : 11.661903789690601\n"
     ]
    }
   ],
   "source": [
    "def euclidean1(a, b):\n",
    "    return np.sqrt(np.sum((a-b)**2))\n",
    "\n",
    "c = np.array([1, 2, 3, 4, 5])\n",
    "d = np.array([2, 3, 6, 9, 15])\n",
    "\n",
    "print(f\"넘파이이용 : {euclidean1(c, d)}\")"
   ]
  },
  {
   "cell_type": "markdown",
   "id": "5c8ebc15",
   "metadata": {},
   "source": [
    "## 2. 맨하탄 거리"
   ]
  },
  {
   "cell_type": "code",
   "execution_count": 9,
   "id": "1c2917d7",
   "metadata": {},
   "outputs": [
    {
     "name": "stdout",
     "output_type": "stream",
     "text": [
      "맨하탄 거리 : 20\n"
     ]
    }
   ],
   "source": [
    "def manhattan(a, b):\n",
    "    distance = 0\n",
    "    for i in range(len(a)):\n",
    "        distance += abs(a[i] - b[i])\n",
    "    return distance\n",
    "\n",
    "print(f\"맨하탄 거리 : {manhattan(a, b)}\")"
   ]
  },
  {
   "cell_type": "code",
   "execution_count": null,
   "id": "8a158804",
   "metadata": {},
   "outputs": [],
   "source": []
  },
  {
   "cell_type": "code",
   "execution_count": null,
   "id": "a323d903",
   "metadata": {},
   "outputs": [],
   "source": []
  },
  {
   "cell_type": "code",
   "execution_count": 8,
   "id": "0e7c2c65",
   "metadata": {},
   "outputs": [
    {
     "name": "stdout",
     "output_type": "stream",
     "text": [
      "맨하탄 거리 : 20\n"
     ]
    }
   ],
   "source": [
    "def manhattan1(c, d):\n",
    "    return np.sum(np.abs(c - d))\n",
    "\n",
    "print(f\"맨하탄 거리 : {manhattan1(c, d)}\")"
   ]
  },
  {
   "cell_type": "markdown",
   "id": "1ed43cb0",
   "metadata": {},
   "source": [
    "## 3.맨해튼 거리\n"
   ]
  },
  {
   "cell_type": "code",
   "execution_count": null,
   "id": "766cfafe",
   "metadata": {},
   "outputs": [],
   "source": [
    "def chebyshev(a, b):\n",
    "    distance = 0\n",
    "    for i in range(len(a)):\n",
    "        distance = max(distance, abs(a[i] - b[i]))\n",
    "    return distance\n",
    "\n",
    "print(f\"맨해튼 거리 : {chebyshev(a, b)}\")"
   ]
  },
  {
   "cell_type": "code",
   "execution_count": 12,
   "id": "41bbab55",
   "metadata": {},
   "outputs": [
    {
     "name": "stdout",
     "output_type": "stream",
     "text": [
      "넘파이 이용 : 10\n"
     ]
    }
   ],
   "source": [
    "def chebyshev1(c, d):\n",
    "    return np.max(np.abs(c-d))\n",
    "\n",
    "print(f\"넘파이 이용 : {chebyshev1(c, d)}\")"
   ]
  },
  {
   "cell_type": "markdown",
   "id": "402544d8",
   "metadata": {},
   "source": [
    "## 4. 미스테이로비치 거리"
   ]
  },
  {
   "cell_type": "code",
   "execution_count": 10,
   "id": "8f254742",
   "metadata": {},
   "outputs": [
    {
     "name": "stdout",
     "output_type": "stream",
     "text": [
      "미스테이로비치 거리 : 20.0\n"
     ]
    }
   ],
   "source": [
    "def minkowski(a, b, p):\n",
    "    distance = 0\n",
    "    for i in range(len(a)):\n",
    "        distance += abs(a[i] - b[i]) ** p\n",
    "    return distance ** (1/p)\n",
    "\n",
    "p = 1 #2 : 유클리드 거리, 1 : 맨하탄거리\n",
    "print(f\"미스테이로비치 거리 : {minkowski(a, b, p)}\")"
   ]
  },
  {
   "cell_type": "code",
   "execution_count": 11,
   "id": "6c3a6daa",
   "metadata": {},
   "outputs": [
    {
     "name": "stdout",
     "output_type": "stream",
     "text": [
      "넘파이이용 : 11.661903789690601\n"
     ]
    }
   ],
   "source": [
    "def minkowski1(c, d, p):\n",
    "    return np.power(np.sum(np.abs(c - d) ** p), 1/p)\n",
    "\n",
    "p = 2\n",
    "print(f\"넘파이이용 : {minkowski1(c, d, p)}\")"
   ]
  }
 ],
 "metadata": {
  "kernelspec": {
   "display_name": "Python 3 (ipykernel)",
   "language": "python",
   "name": "python3"
  },
  "language_info": {
   "codemirror_mode": {
    "name": "ipython",
    "version": 3
   },
   "file_extension": ".py",
   "mimetype": "text/x-python",
   "name": "python",
   "nbconvert_exporter": "python",
   "pygments_lexer": "ipython3",
   "version": "3.11.5"
  }
 },
 "nbformat": 4,
 "nbformat_minor": 5
}
