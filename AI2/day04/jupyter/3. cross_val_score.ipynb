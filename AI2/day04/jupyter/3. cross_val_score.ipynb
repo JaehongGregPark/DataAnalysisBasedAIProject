{
 "cells": [
  {
   "cell_type": "code",
   "execution_count": 1,
   "id": "ca952ded",
   "metadata": {},
   "outputs": [],
   "source": [
    "from sklearn.tree import DecisionTreeClassifier\n",
    "from sklearn.model_selection import cross_val_score, cross_validate\n",
    "from sklearn.datasets import load_iris\n",
    "import numpy as np"
   ]
  },
  {
   "cell_type": "code",
   "execution_count": 12,
   "id": "53844cc9",
   "metadata": {},
   "outputs": [
    {
     "name": "stdout",
     "output_type": "stream",
     "text": [
      "{'fit_time': array([0.00099182, 0.00099635, 0.00199366]), 'score_time': array([0.00299263, 0.00398946, 0.00498295]), 'test_accuracy': array([0.98, 0.94, 0.98]), 'test_precision_macro': array([0.98148148, 0.94074074, 0.98148148]), 'test_f1_macro': array([0.9797235 , 0.93917051, 0.98037518])}\n"
     ]
    }
   ],
   "source": [
    "iris = load_iris()\n",
    "dt = DecisionTreeClassifier(random_state = 125)\n",
    "\n",
    "features = iris.data\n",
    "label = iris.target\n",
    "\n",
    "# scores = cross_val_score(dt, features, label, scoring=\"accuracy\", cv=3)\n",
    "scoring = [\"accuracy\", \"precision_macro\", \"f1_macro\"]\n",
    "result = cross_validate(dt, features, label, scoring=scoring, cv=3)\n",
    "\n",
    "print(result)\n",
    "\n",
    "# print(f\"교차검증 별 정확도 : {np.round(scores, 4)}\")\n",
    "# print(f\"평균 검증 정확도 : {np.round(np.mean(scores), 4)}\")"
   ]
  },
  {
   "cell_type": "code",
   "execution_count": null,
   "id": "221d9531",
   "metadata": {},
   "outputs": [],
   "source": []
  },
  {
   "cell_type": "code",
   "execution_count": null,
   "id": "c3e7bf26",
   "metadata": {},
   "outputs": [],
   "source": []
  },
  {
   "cell_type": "code",
   "execution_count": null,
   "id": "4f7786f5",
   "metadata": {},
   "outputs": [],
   "source": []
  },
  {
   "cell_type": "code",
   "execution_count": null,
   "id": "20f54c82",
   "metadata": {},
   "outputs": [],
   "source": []
  },
  {
   "cell_type": "code",
   "execution_count": null,
   "id": "67d076f4",
   "metadata": {},
   "outputs": [],
   "source": []
  },
  {
   "cell_type": "code",
   "execution_count": null,
   "id": "a9d24bc7",
   "metadata": {},
   "outputs": [],
   "source": []
  },
  {
   "cell_type": "code",
   "execution_count": null,
   "id": "1e37623d",
   "metadata": {},
   "outputs": [],
   "source": []
  },
  {
   "cell_type": "code",
   "execution_count": null,
   "id": "23f3b1fb",
   "metadata": {},
   "outputs": [],
   "source": []
  }
 ],
 "metadata": {
  "kernelspec": {
   "display_name": "Python 3 (ipykernel)",
   "language": "python",
   "name": "python3"
  },
  "language_info": {
   "codemirror_mode": {
    "name": "ipython",
    "version": 3
   },
   "file_extension": ".py",
   "mimetype": "text/x-python",
   "name": "python",
   "nbconvert_exporter": "python",
   "pygments_lexer": "ipython3",
   "version": "3.11.5"
  }
 },
 "nbformat": 4,
 "nbformat_minor": 5
}
